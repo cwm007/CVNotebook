{
 "cells": [
  {
   "cell_type": "markdown",
   "id": "naked-conservative",
   "metadata": {},
   "source": [
    "# 1.杭长隧道"
   ]
  },
  {
   "cell_type": "markdown",
   "id": "joined-reggae",
   "metadata": {},
   "source": [
    "杭长高速隧道场景数据以薄涂料、瓷砖为主。"
   ]
  },
  {
   "cell_type": "markdown",
   "id": "cellular-mayor",
   "metadata": {},
   "source": [
    "## 1.1 展布图与原图如何对应"
   ]
  },
  {
   "cell_type": "markdown",
   "id": "common-brass",
   "metadata": {},
   "source": [
    "隧道的病害结果已经标注在展布图上，只需在原图上标注对应的病害即可。"
   ]
  },
  {
   "cell_type": "markdown",
   "id": "turkish-barrier",
   "metadata": {},
   "source": [
    "上行：展布图垂直方向上，自下而上依次对应1-6、8-13号相机的原图；水平方向上从左到右是连续编号原图的拼接。展布图上是原图的逆时针旋转90度图。6号相机和8号相机之间有明显的错位。"
   ]
  },
  {
   "cell_type": "markdown",
   "id": "religious-seafood",
   "metadata": {},
   "source": [
    "下行：展布图垂直方向上，自下而上依次对应13-8、6-1号相机的原图；水平方向上从右到左是连续编号原图的拼接。展布图上是原图的顺时针旋转90度图。6号相机和8号相机之间有明显的错位。"
   ]
  },
  {
   "cell_type": "markdown",
   "id": "portable-prague",
   "metadata": {},
   "source": [
    "文件：“浙江交通2023年隧道定检进出洞统计表-2023-5-29.xls”给出了隧道的起始桩号和对应的原始图片序号，结合展布图上的桩号可计算病害对应的原图编号。另外，该文件中的右洞对应原图和展布图的上行、左洞对应原图和展布图的下行。"
   ]
  },
  {
   "cell_type": "markdown",
   "id": "tribal-montana",
   "metadata": {},
   "source": [
    "## 1.2 文件阐述"
   ]
  },
  {
   "cell_type": "markdown",
   "id": "minimal-excitement",
   "metadata": {},
   "source": [
    "* 原图----该目录下保存了原始病害图像，也是待标注的图像;\n",
    "* 中间结果图----保存了病害的展布图，方便快速定位病害所在的相机位置、图片编号；\n",
    "* 病害结果图----与中间结果图是一样的，仅图片区域亮度不同，帮助识别病害附近位置的图像特征。"
   ]
  },
  {
   "cell_type": "markdown",
   "id": "serial-devices",
   "metadata": {},
   "source": [
    "## 1.3 labelme标注"
   ]
  },
  {
   "cell_type": "markdown",
   "id": "engaging-establishment",
   "metadata": {},
   "source": [
    "* 原则上一条病害只标注一个框，即带有分叉的裂缝以及距离相邻(1个瓷砖距离)的病害直接用一个框包含进来；\n",
    "* 病害类别总共四个；"
   ]
  },
  {
   "cell_type": "markdown",
   "id": "exclusive-clark",
   "metadata": {},
   "source": [
    "注意：在标注数据时，首先将目录JPEGImages和txt目录清空。然后将classes.txt文件放在txt目录、隧道的原始图片放在JPEGImages目录。在labelme中绘制病害框后，需要手动选择类别(crack、netCrack等)。"
   ]
  }
 ],
 "metadata": {
  "kernelspec": {
   "display_name": "Python 3",
   "language": "python",
   "name": "python3"
  },
  "language_info": {
   "codemirror_mode": {
    "name": "ipython",
    "version": 3
   },
   "file_extension": ".py",
   "mimetype": "text/x-python",
   "name": "python",
   "nbconvert_exporter": "python",
   "pygments_lexer": "ipython3",
   "version": "3.7.8"
  }
 },
 "nbformat": 4,
 "nbformat_minor": 5
}
