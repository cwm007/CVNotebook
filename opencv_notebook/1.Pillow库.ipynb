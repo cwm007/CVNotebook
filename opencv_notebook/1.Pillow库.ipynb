{
 "cells": [
  {
   "cell_type": "markdown",
   "id": "round-bandwidth",
   "metadata": {},
   "source": [
    "# 1.Pillow库的安装和导入"
   ]
  },
  {
   "cell_type": "markdown",
   "id": "geographic-promotion",
   "metadata": {},
   "source": [
    "Pillow是Python用来进行图像处理的第三方库，其安装方式如下："
   ]
  },
  {
   "cell_type": "code",
   "execution_count": null,
   "id": "considered-circular",
   "metadata": {},
   "outputs": [],
   "source": [
    "pip install pillow"
   ]
  },
  {
   "cell_type": "markdown",
   "id": "hazardous-louis",
   "metadata": {},
   "source": [
    "在Pillow库中，有大量的模块和插件，其中最常用的是Image模块，其它模块都是在Image模块基础上进一步对图像进行处理，Image模块导入方式如下："
   ]
  },
  {
   "cell_type": "code",
   "execution_count": 5,
   "id": "cordless-chinese",
   "metadata": {},
   "outputs": [],
   "source": [
    "from PIL import Image"
   ]
  },
  {
   "cell_type": "markdown",
   "id": "broken-packaging",
   "metadata": {},
   "source": [
    "# 2.图像的表示"
   ]
  },
  {
   "cell_type": "markdown",
   "id": "magnetic-observer",
   "metadata": {},
   "source": [
    "图像由一个个像素点组成，每个像素点包含三元组RGB。"
   ]
  },
  {
   "cell_type": "markdown",
   "id": "raised-nerve",
   "metadata": {},
   "source": [
    "## 2.1 提取像素点"
   ]
  },
  {
   "cell_type": "code",
   "execution_count": 27,
   "id": "reverse-indication",
   "metadata": {},
   "outputs": [
    {
     "data": {
      "text/plain": [
       "(236, 241, 247)"
      ]
     },
     "execution_count": 27,
     "metadata": {},
     "output_type": "execute_result"
    }
   ],
   "source": [
    "from PIL import Image\n",
    "img = Image.open('../example_images/cat.jpg')\n",
    "position=(0,0) # (0,0)图像中像素点位置\n",
    "img.getpixel(position)"
   ]
  },
  {
   "cell_type": "markdown",
   "id": "phantom-comparative",
   "metadata": {},
   "source": [
    "## 2.2 替换像素点"
   ]
  },
  {
   "cell_type": "code",
   "execution_count": 48,
   "id": "ruled-ceramic",
   "metadata": {},
   "outputs": [
    {
     "data": {
      "text/plain": [
       "(0, 0, 0)"
      ]
     },
     "execution_count": 48,
     "metadata": {},
     "output_type": "execute_result"
    }
   ],
   "source": [
    "# 替换像素点的RGB值\n",
    "img.putpixel((0,0),(0,0,0))\n",
    "# 展示替换后的像素点\n",
    "img.getpixel((0,0))"
   ]
  },
  {
   "cell_type": "markdown",
   "id": "challenging-palmer",
   "metadata": {},
   "source": [
    "# 3.图像基本操作"
   ]
  },
  {
   "cell_type": "markdown",
   "id": "available-guinea",
   "metadata": {},
   "source": [
    "## 3.1 读取显示图像"
   ]
  },
  {
   "cell_type": "code",
   "execution_count": 9,
   "id": "frozen-corruption",
   "metadata": {},
   "outputs": [],
   "source": [
    "from PIL import Image\n",
    "img = Image.open('../example_images/cat.jpg')\n",
    "img.show()"
   ]
  },
  {
   "cell_type": "markdown",
   "id": "circular-opening",
   "metadata": {},
   "source": [
    "## 3.2 保存图像"
   ]
  },
  {
   "cell_type": "code",
   "execution_count": 10,
   "id": "loving-diagram",
   "metadata": {},
   "outputs": [],
   "source": [
    "img.save('../example_images/cat_copy.jpg')"
   ]
  },
  {
   "cell_type": "markdown",
   "id": "swedish-regular",
   "metadata": {},
   "source": [
    "## 3.3 裁剪图像"
   ]
  },
  {
   "cell_type": "code",
   "execution_count": 47,
   "id": "focal-comedy",
   "metadata": {},
   "outputs": [],
   "source": [
    "# 矩形区域像素坐标x1,y1,x2,y2\n",
    "zone = (300, 200, 800, 500) \n",
    "crop_img = img.crop(zone)\n",
    "crop_img.show()"
   ]
  },
  {
   "cell_type": "markdown",
   "id": "behavioral-shade",
   "metadata": {},
   "source": [
    "## 3.4 图像灰度化"
   ]
  },
  {
   "cell_type": "code",
   "execution_count": 20,
   "id": "committed-tuning",
   "metadata": {},
   "outputs": [],
   "source": [
    "# 图像转换为灰度图\n",
    "grey_img = img.convert('L')\n",
    "grey_img.show()"
   ]
  },
  {
   "cell_type": "code",
   "execution_count": 17,
   "id": "second-protection",
   "metadata": {},
   "outputs": [],
   "source": [
    "# 图像转换为黑白图\n",
    "black_img = img.convert('1') # 每个像素点内非黑即白0和255\n",
    "black_img.show()"
   ]
  },
  {
   "cell_type": "code",
   "execution_count": 38,
   "id": "local-institution",
   "metadata": {},
   "outputs": [
    {
     "name": "stdout",
     "output_type": "stream",
     "text": [
      "240 255\n"
     ]
    }
   ],
   "source": [
    "# 对比灰度图和黑白图\n",
    "v1 = grey_img.getpixel((0,0))\n",
    "v2 = black_img.getpixel((0,0))\n",
    "print(v1,v2)"
   ]
  },
  {
   "cell_type": "markdown",
   "id": "parallel-reputation",
   "metadata": {},
   "source": [
    "## 3.5  图像缩放"
   ]
  },
  {
   "cell_type": "code",
   "execution_count": 30,
   "id": "municipal-priest",
   "metadata": {},
   "outputs": [],
   "source": [
    "resize_img = img.resize((500, 500))\n",
    "resize_img.show()"
   ]
  },
  {
   "cell_type": "markdown",
   "id": "differential-jordan",
   "metadata": {},
   "source": [
    "## 3.6 图像旋转"
   ]
  },
  {
   "cell_type": "code",
   "execution_count": 34,
   "id": "portuguese-operator",
   "metadata": {},
   "outputs": [],
   "source": [
    "# 默认逆时针旋转\n",
    "rotate_img = img.rotate(90) \n",
    "rotate_img.show()"
   ]
  },
  {
   "cell_type": "markdown",
   "id": "passing-mexico",
   "metadata": {},
   "source": [
    "## 3.7 图像色度调整"
   ]
  },
  {
   "cell_type": "markdown",
   "id": "genuine-manhattan",
   "metadata": {},
   "source": [
    "### 3.7.1 亮度调整"
   ]
  },
  {
   "cell_type": "code",
   "execution_count": 36,
   "id": "parallel-melissa",
   "metadata": {},
   "outputs": [],
   "source": [
    "# 图像亮度的调整\n",
    "from PIL import ImageEnhance\n",
    "brightness_img = ImageEnhance.Brightness(img).enhance(2) # 1亮度不变、2亮度翻倍\n",
    "brightness_img.show()"
   ]
  },
  {
   "cell_type": "code",
   "execution_count": 43,
   "id": "dynamic-production",
   "metadata": {},
   "outputs": [
    {
     "data": {
      "text/plain": [
       "(235, 240, 246)"
      ]
     },
     "execution_count": 43,
     "metadata": {},
     "output_type": "execute_result"
    }
   ],
   "source": [
    "# 原图像某个像素点的RGB值\n",
    "img.getpixel((300,300))"
   ]
  },
  {
   "cell_type": "code",
   "execution_count": 42,
   "id": "empirical-laundry",
   "metadata": {},
   "outputs": [
    {
     "data": {
      "text/plain": [
       "(255, 255, 255)"
      ]
     },
     "execution_count": 42,
     "metadata": {},
     "output_type": "execute_result"
    }
   ],
   "source": [
    "# 亮度调整后某个像素点的RGB值\n",
    "brightness_img.getpixel((300,300))"
   ]
  },
  {
   "cell_type": "markdown",
   "id": "static-section",
   "metadata": {},
   "source": [
    "注意，亮度调整本质上是像素点RGB取值的翻倍，但是不能超过255。"
   ]
  },
  {
   "cell_type": "markdown",
   "id": "provincial-cleaner",
   "metadata": {},
   "source": [
    "### 3.7.2  对比度调整"
   ]
  },
  {
   "cell_type": "code",
   "execution_count": 45,
   "id": "voluntary-education",
   "metadata": {},
   "outputs": [],
   "source": [
    "# 图像对比度的调整\n",
    "contrast_img = ImageEnhance.Contrast(img).enhance(2) # 像素点RGB取值接近255,则变大；接近0,则变小\n",
    "contrast_img.show()"
   ]
  },
  {
   "cell_type": "code",
   "execution_count": 46,
   "id": "sacred-williams",
   "metadata": {},
   "outputs": [
    {
     "data": {
      "text/plain": [
       "(255, 255, 255)"
      ]
     },
     "execution_count": 46,
     "metadata": {},
     "output_type": "execute_result"
    }
   ],
   "source": [
    "# 调整对比度后RGB值\n",
    "contrast_img.getpixel((300,300))"
   ]
  }
 ],
 "metadata": {
  "kernelspec": {
   "display_name": "Python 3",
   "language": "python",
   "name": "python3"
  },
  "language_info": {
   "codemirror_mode": {
    "name": "ipython",
    "version": 3
   },
   "file_extension": ".py",
   "mimetype": "text/x-python",
   "name": "python",
   "nbconvert_exporter": "python",
   "pygments_lexer": "ipython3",
   "version": "3.7.8"
  }
 },
 "nbformat": 4,
 "nbformat_minor": 5
}
