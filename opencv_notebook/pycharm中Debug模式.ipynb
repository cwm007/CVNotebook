{
 "cells": [
  {
   "cell_type": "markdown",
   "id": "rolled-newport",
   "metadata": {},
   "source": [
    "Step Over——单步执行，在函数内遇到子函数时不会进入其内部，而是将子函数作为一步执行。如果不存在子函数，和Step Into等效。<br>\n",
    "Step Into——单步执行，在函数内遇到子函数会进入其内部单步执行。<br>\n",
    "Step Into My Code——进入自己编写的函数，不进入系统函数<br>\n",
    "Force Step Into——强制进入，在调试的时候能进入任何方法<br>\n",
    "Step Out——当在子函数内部时，直接执行完剩余的部分，返回到上一级函数<br>\n",
    "Run to Cursor——执行到下一个断点，在循环内部时，点击一次执行一个循环。<br>"
   ]
  },
  {
   "cell_type": "code",
   "execution_count": null,
   "id": "confident-joshua",
   "metadata": {},
   "outputs": [],
   "source": []
  }
 ],
 "metadata": {
  "kernelspec": {
   "display_name": "Python 3",
   "language": "python",
   "name": "python3"
  },
  "language_info": {
   "codemirror_mode": {
    "name": "ipython",
    "version": 3
   },
   "file_extension": ".py",
   "mimetype": "text/x-python",
   "name": "python",
   "nbconvert_exporter": "python",
   "pygments_lexer": "ipython3",
   "version": "3.7.8"
  }
 },
 "nbformat": 4,
 "nbformat_minor": 5
}
