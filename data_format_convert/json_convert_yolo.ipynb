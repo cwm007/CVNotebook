{
 "cells": [
  {
   "cell_type": "markdown",
   "id": "private-conversion",
   "metadata": {},
   "source": [
    "# 1.labelme标注的json格式数据转换为yolo格式"
   ]
  },
  {
   "cell_type": "code",
   "execution_count": 22,
   "id": "certified-variable",
   "metadata": {},
   "outputs": [],
   "source": [
    "import os\n",
    "import json"
   ]
  },
  {
   "cell_type": "code",
   "execution_count": 18,
   "id": "assured-scheme",
   "metadata": {},
   "outputs": [],
   "source": [
    "# 要转换的json文件\n",
    "json_file = '../example_images/labelme_json.json'\n",
    "# 定义映射关系(目标类别和索引之间的关系)\n",
    "class_mapping = {\n",
    "    \"crack\":0\n",
    "}"
   ]
  },
  {
   "cell_type": "code",
   "execution_count": 20,
   "id": "painful-function",
   "metadata": {},
   "outputs": [],
   "source": [
    "def convert_json_to_yolo(json_file, class_mapping):\n",
    "    with open(json_file, 'r', encoding='utf-8') as f:\n",
    "        data = json.load(f)\n",
    "    yolo_labels = []\n",
    "\n",
    "    # 图像的总高度\n",
    "    img_h = data['imageHeight']\n",
    "    # 图像的总宽度\n",
    "    img_w = data['imageWidth']\n",
    "\n",
    "    # 遍历各个边界框\n",
    "    for shape in data['shapes']:\n",
    "        label = shape['label']\n",
    "        points = shape['points']\n",
    "\n",
    "        x_min = min(x[0] for x in points)\n",
    "        x_max = max(x[0] for x in points)\n",
    "        y_min = min(x[1] for x in points)\n",
    "        y_max = max(x[1] for x in points)\n",
    "\n",
    "        class_id = class_mapping.get(label)\n",
    "        if class_id is not None:\n",
    "            x_center = (x_min + x_max) / 2\n",
    "            y_center = (y_min + y_max) / 2\n",
    "            width = x_max - x_min\n",
    "            height = y_max - y_min\n",
    "\n",
    "            # 归一化\n",
    "            width /= img_w\n",
    "            height /= img_h\n",
    "\n",
    "            x_center /= img_w\n",
    "            y_center /= img_h\n",
    "\n",
    "            yolo_label = f\"{class_id} {x_center:.6f} {y_center:.6f} {width:.6f} {height:.6f}\"\n",
    "            yolo_labels.append(yolo_label)\n",
    "    return yolo_labels"
   ]
  },
  {
   "cell_type": "code",
   "execution_count": 21,
   "id": "structured-differential",
   "metadata": {},
   "outputs": [],
   "source": [
    "yolo_labels = convert_json_to_yolo(json_file, class_mapping)"
   ]
  },
  {
   "cell_type": "code",
   "execution_count": 28,
   "id": "intermediate-basketball",
   "metadata": {},
   "outputs": [],
   "source": [
    "# 保存到yolo格式文件\n",
    "yolo_filename = os.path.basename(json_file)[:-4] + 'txt'\n",
    "yolo_filename = os.path.join(os.path.dirname(json_file), yolo_filename)\n",
    "with open(yolo_filename, 'w') as f:\n",
    "    for label in yolo_labels:\n",
    "        f.write(label + '\\n')"
   ]
  }
 ],
 "metadata": {
  "kernelspec": {
   "display_name": "Python 3",
   "language": "python",
   "name": "python3"
  },
  "language_info": {
   "codemirror_mode": {
    "name": "ipython",
    "version": 3
   },
   "file_extension": ".py",
   "mimetype": "text/x-python",
   "name": "python",
   "nbconvert_exporter": "python",
   "pygments_lexer": "ipython3",
   "version": "3.7.8"
  }
 },
 "nbformat": 4,
 "nbformat_minor": 5
}
