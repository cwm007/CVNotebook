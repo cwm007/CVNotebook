{
 "cells": [
  {
   "cell_type": "markdown",
   "id": "social-excuse",
   "metadata": {},
   "source": [
    "# 1.xml格式数据转换为yolo格式"
   ]
  },
  {
   "cell_type": "code",
   "execution_count": 1,
   "id": "early-detector",
   "metadata": {},
   "outputs": [],
   "source": [
    "import os\n",
    "import xml.etree.ElementTree as ET\n",
    "\n",
    "\n",
    "def xml_to_txt(xml_file, class_mapping):\n",
    "    with open(xml_file, encoding='utf-8') as f:\n",
    "        # 加载xml文件\n",
    "        tree = ET.parse(f)\n",
    "        \n",
    "    # 获取根元素\n",
    "    root = tree.getroot()\n",
    "\n",
    "    yolo_labels = []\n",
    "    \n",
    "    # 图片的实际宽和高\n",
    "    w, h = 8192, 4096\n",
    "\n",
    "    for obj in root.iter('object'):\n",
    "        # 类别信息\n",
    "        class_info = obj.find('name').text\n",
    "        if class_info in class_mapping:\n",
    "            c = class_mapping[class_info]\n",
    "            bnd_box = obj.find('bndbox')\n",
    "            \n",
    "            # 坐标信息\n",
    "            x_min = int(bnd_box.find('xmin').text)\n",
    "            x_max = int(bnd_box.find('xmax').text)\n",
    "            y_min = int(bnd_box.find('ymin').text)\n",
    "            y_max = int(bnd_box.find('ymax').text)\n",
    "\n",
    "            x_center = (x_min+x_max)/2/w\n",
    "            y_center = (y_min+y_max)/2/h\n",
    "\n",
    "            width = (x_max-x_min) / w\n",
    "            height = (y_max-y_min) / h\n",
    "\n",
    "            yolo_labels.append(f\"{c} {x_center:.6f} {y_center:.6f} {width:.6f} {height:.6f}\")\n",
    "    return yolo_labels\n",
    "\n",
    "\n",
    "class_mapping = {\n",
    "    'constructionCrack': 0,\n",
    "    \"crack\": 1\n",
    "}\n",
    "# 待转换文件\n",
    "f = r'../example_images/Cam10-2023_05_02_12_12_03_852-90-588.xml'\n",
    "labels = xml_to_txt(f, class_mapping)\n",
    "new_file = os.path.join(os.path.dirname(f), os.path.basename(f)[:-3]+'txt')\n",
    "with open(new_file, 'w') as f:\n",
    "    for label in labels:\n",
    "        f.write(label+'\\n')"
   ]
  }
 ],
 "metadata": {
  "kernelspec": {
   "display_name": "Python 3",
   "language": "python",
   "name": "python3"
  },
  "language_info": {
   "codemirror_mode": {
    "name": "ipython",
    "version": 3
   },
   "file_extension": ".py",
   "mimetype": "text/x-python",
   "name": "python",
   "nbconvert_exporter": "python",
   "pygments_lexer": "ipython3",
   "version": "3.7.8"
  }
 },
 "nbformat": 4,
 "nbformat_minor": 5
}
